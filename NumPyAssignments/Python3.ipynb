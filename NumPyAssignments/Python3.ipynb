{
 "cells": [
  {
   "cell_type": "markdown",
   "metadata": {},
   "source": [
    "# <center> Python </center>"
   ]
  },
  {
   "cell_type": "markdown",
   "metadata": {},
   "source": [
    "#### Python was Developed by Guido van Rossum in 1980 in Netherlands"
   ]
  },
  {
   "cell_type": "markdown",
   "metadata": {},
   "source": [
    "#### The language is named after one of Guido’s favourite programs \"Monty Pythons Flying Circus\""
   ]
  },
  {
   "cell_type": "markdown",
   "metadata": {},
   "source": [
    "##### Python is driven by several different factors:\n",
    "1. Its flexibility and simplicity which makes it easy to learn.\n",
    "2. Its use by the Data Science community where it provides a more standard programming language than some rivals such as R.\n",
    "3. Its suitability as a scripting language for those working in the DevOps field where it provides a higher level of abstraction than alternative languages traditionally used.\n",
    "4. Its ability to run on (almost) any operating system, but particularly the big three operating systems Windows, MacOS and Linux.\n",
    "5. The availability of a wide range of libraries (modules) that can be used to extend the basic features of the language.\n",
    "6. It is free! "
   ]
  },
  {
   "cell_type": "markdown",
   "metadata": {},
   "source": [
    "### Python Versions"
   ]
  },
  {
   "cell_type": "markdown",
   "metadata": {},
   "source": [
    "Currently there are two main versions of Python called Python 2 and Python 3.\n",
    "- Python 2 was launched in October 2000 and has been, and still is, very widely used.\n",
    "- Python 3 was launched in December 2008 and is a major revision to the language that is not backward compatible.\n",
    "\n",
    "The issue between the two versions can be highlighted by the simple print facility:\n",
    "- In Python 2 this is written as print 'Hello World'\n",
    "- In Python 3 this is written as print ('Hello World')"
   ]
  },
  {
   "cell_type": "markdown",
   "metadata": {},
   "source": [
    "### Programming Paradigms\n",
    "- __Procedural Programming:__ in which a program is represented as a sequence of instructions that tell the computer what it should do explicitly.\n",
    "- __Declarative Programming:__ languages, such as Prolog, that allow developers to describe how a problem should be solved, with the language/environment determining how the solution should be implemented. e.g. SQL.\n",
    "- **Object Oriented Programming:** approaches that represent a system in terms of the objects that form that system.\n",
    "- **Functional Programming:** languages decompose a problem into a set of functions.\n",
    "\n",
    "Some programming languages are considered to be hybrid languages; that is they allow developers to utilise a combination of different approaches within the same program. Python is an example of a hybrid programming language as it allows you to write very procedural code, to use objects in an object oriented manner and to write functional programs."
   ]
  },
  {
   "cell_type": "markdown",
   "metadata": {},
   "source": [
    "### Python Libraries\n",
    "- web frameworks such as Django/Flask,\n",
    "- email clients such as smtplib (a SMTP email client) and imaplib (an IMAP4 email client),\n",
    "- content management operations such as the Zope library,\n",
    "- lightweight concurrency (running multiple operations at the same time) using the Stackless library,\n",
    "- the Generation of Microsoft Excel files using the Python Excel library,\n",
    "- graphics libraries such as Matplotlib and PyOpenGL,\n",
    "- machine learning using libraries such as SKLearn, TensorFlow and PyTorch"
   ]
  },
  {
   "cell_type": "markdown",
   "metadata": {},
   "source": [
    "#### KeyNotes\n",
    "- To add python code in a file we need to save it with .py extention. \n",
    "- To convert python program into Script we can start the python program file with \"#!\" (shebang)"
   ]
  },
  {
   "cell_type": "markdown",
   "metadata": {},
   "source": [
    "### First Program"
   ]
  },
  {
   "cell_type": "code",
   "execution_count": 1,
   "metadata": {},
   "outputs": [
    {
     "name": "stdout",
     "output_type": "stream",
     "text": [
      "Hello World!\n"
     ]
    }
   ],
   "source": [
    "print(\"Hello World!\")"
   ]
  },
  {
   "cell_type": "code",
   "execution_count": 6,
   "metadata": {},
   "outputs": [
    {
     "name": "stdout",
     "output_type": "stream",
     "text": [
      "Enter your name:samran\n",
      "Hello,  samran\n"
     ]
    }
   ],
   "source": [
    "user_name = input(\"Enter your name:\")\n",
    "print(\"Hello, \", user_name)"
   ]
  },
  {
   "cell_type": "code",
   "execution_count": 1,
   "metadata": {},
   "outputs": [],
   "source": [
    "# this is single line comment"
   ]
  },
  {
   "cell_type": "markdown",
   "metadata": {},
   "source": [
    "### Strings"
   ]
  },
  {
   "cell_type": "markdown",
   "metadata": {},
   "source": [
    "- Series or sequence of characters in order. character is anything you can type of the keyboard, e.g. letters; a-z, numbers; 0-9 and special characters; %, &, $ etc\n",
    "- Strings are immutable, which means once created they can not be changed\n",
    "- Python Strings are Case Sensitive"
   ]
  },
  {
   "cell_type": "code",
   "execution_count": 4,
   "metadata": {},
   "outputs": [],
   "source": [
    "my_string = 'this is a valid string'\n",
    "new_string = \"so is this\"\n",
    "multiline_string = \"\"\"\n",
    "this is a multiline\n",
    "string, so you \n",
    "can spread this string\n",
    "on different lines\n",
    "\"\"\""
   ]
  },
  {
   "cell_type": "code",
   "execution_count": 5,
   "metadata": {},
   "outputs": [
    {
     "name": "stdout",
     "output_type": "stream",
     "text": [
      "<class 'str'>\n"
     ]
    }
   ],
   "source": [
    "print(type(multiline_string))"
   ]
  },
  {
   "cell_type": "code",
   "execution_count": 8,
   "metadata": {},
   "outputs": [
    {
     "name": "stdout",
     "output_type": "stream",
     "text": [
      "this is a valid stringso is this\n",
      "this is a multiline\n",
      "string, so you \n",
      "can spread this string\n",
      "on different lines\n",
      "\n"
     ]
    }
   ],
   "source": [
    "string_concatination = my_string + new_string + multiline_string # strings can be concatenated using \"+\" operator\n",
    "print(string_concatination)"
   ]
  },
  {
   "cell_type": "code",
   "execution_count": 9,
   "metadata": {},
   "outputs": [
    {
     "name": "stdout",
     "output_type": "stream",
     "text": [
      "111\n"
     ]
    }
   ],
   "source": [
    "print(len(string_concatination))  # find out the length of the string"
   ]
  },
  {
   "cell_type": "code",
   "execution_count": 10,
   "metadata": {},
   "outputs": [
    {
     "name": "stdout",
     "output_type": "stream",
     "text": [
      "i\n"
     ]
    }
   ],
   "source": [
    "print(string_concatination[5]) # accessing a character which is at index# 5"
   ]
  },
  {
   "cell_type": "markdown",
   "metadata": {},
   "source": [
    "#### Accessing Subset of Characters"
   ]
  },
  {
   "cell_type": "code",
   "execution_count": 16,
   "metadata": {},
   "outputs": [
    {
     "name": "stdout",
     "output_type": "stream",
     "text": [
      "his \n",
      "this is a \n",
      "this is a valid\n",
      "is a valid stringso is this\n",
      "this is a multiline\n",
      "string, so you \n",
      "can spread this string\n",
      "on different lines\n",
      "\n"
     ]
    }
   ],
   "source": [
    "print(string_concatination[1:5]) # [starting_index : nth element]\n",
    "print(string_concatination[0: 10]) # starting from 0 index and till 10th element which is a space in this case.\n",
    "print(string_concatination[:15]) # from start till 15th element\n",
    "print(string_concatination[5:]) # from 5th index till end of the string"
   ]
  },
  {
   "cell_type": "markdown",
   "metadata": {},
   "source": [
    "#### Repeating Strings"
   ]
  },
  {
   "cell_type": "code",
   "execution_count": 19,
   "metadata": {},
   "outputs": [
    {
     "name": "stdout",
     "output_type": "stream",
     "text": [
      "**************************************************\n",
      "==================================================\n",
      "--------------------------------------------------\n"
     ]
    }
   ],
   "source": [
    "print('*' * 50)\n",
    "print('=' * 50)\n",
    "print('-' * 50)"
   ]
  },
  {
   "cell_type": "markdown",
   "metadata": {},
   "source": [
    "#### Spliting strings"
   ]
  },
  {
   "cell_type": "code",
   "execution_count": 20,
   "metadata": {},
   "outputs": [
    {
     "name": "stdout",
     "output_type": "stream",
     "text": [
      "Source String the good, the bad, and the ugly\n",
      "Split using Space ['the', 'good,', 'the', 'bad,', 'and', 'the', 'ugly']\n",
      "Split using Comma ['the good', ' the bad', ' and the ugly']\n"
     ]
    }
   ],
   "source": [
    "title = 'the good, the bad, and the ugly'\n",
    "print('Source String', title)\n",
    "print(\"Split using Space\", title.split(\" \"))\n",
    "print(\"Split using Comma\", title.split(\",\"))"
   ]
  },
  {
   "cell_type": "markdown",
   "metadata": {},
   "source": [
    "#### Counting Strings"
   ]
  },
  {
   "cell_type": "code",
   "execution_count": 22,
   "metadata": {},
   "outputs": [
    {
     "name": "stdout",
     "output_type": "stream",
     "text": [
      "6\n",
      "3\n"
     ]
    }
   ],
   "source": [
    "print(title.count(' '))\n",
    "print(title.count('t'))"
   ]
  },
  {
   "cell_type": "markdown",
   "metadata": {},
   "source": [
    "#### Replacing Strings"
   ]
  },
  {
   "cell_type": "code",
   "execution_count": 23,
   "metadata": {},
   "outputs": [
    {
     "name": "stdout",
     "output_type": "stream",
     "text": [
      "the good, the Best, and the ugly\n"
     ]
    }
   ],
   "source": [
    "print(title.replace(\"bad\", \"Best\"))"
   ]
  },
  {
   "cell_type": "markdown",
   "metadata": {},
   "source": [
    "#### Finding Substrings"
   ]
  },
  {
   "cell_type": "code",
   "execution_count": 25,
   "metadata": {},
   "outputs": [
    {
     "name": "stdout",
     "output_type": "stream",
     "text": [
      "0\n",
      "14\n"
     ]
    }
   ],
   "source": [
    "print(title.find(\"the\"))\n",
    "print(title.find(\"bad\"))"
   ]
  },
  {
   "cell_type": "markdown",
   "metadata": {},
   "source": [
    "#### Converting other types into Strings"
   ]
  },
  {
   "cell_type": "code",
   "execution_count": 26,
   "metadata": {},
   "outputs": [
    {
     "name": "stdout",
     "output_type": "stream",
     "text": [
      "Hello Lloyed you are 21\n"
     ]
    }
   ],
   "source": [
    "msg = \"Hello Lloyed you are \" + str(21)\n",
    "print(msg)"
   ]
  },
  {
   "cell_type": "markdown",
   "metadata": {},
   "source": [
    "#### Comparing Strings"
   ]
  },
  {
   "cell_type": "code",
   "execution_count": 28,
   "metadata": {},
   "outputs": [
    {
     "name": "stdout",
     "output_type": "stream",
     "text": [
      "True\n",
      "False\n",
      "True\n"
     ]
    }
   ],
   "source": [
    "print(\"James\" == \"James\")\n",
    "print(\"James\" == \"Jhone\")\n",
    "print(\"James\" != \"Jhone\")"
   ]
  },
  {
   "cell_type": "code",
   "execution_count": 42,
   "metadata": {},
   "outputs": [
    {
     "name": "stdout",
     "output_type": "stream",
     "text": [
      "True\n",
      "False\n",
      "False\n",
      "True\n",
      "False\n",
      "False\n",
      "THE GOOD, THE BAD, AND THE UGLY\n",
      "the good, the bad, and the ugly\n",
      "The Good, The Bad, And The Ugly\n",
      "THE GOOD, THE BAD, AND THE UGLY\n",
      "the good, the bad, and the ugly\n"
     ]
    }
   ],
   "source": [
    "print(title.startswith(\"t\"))\n",
    "print(title.endswith(\"t\"))\n",
    "print(title.istitle())\n",
    "print(title.islower())\n",
    "print(title.isupper())\n",
    "print(title.isalpha())\n",
    "print(title.upper())\n",
    "print(title.lower())\n",
    "print(title.title())\n",
    "print(title.swapcase())\n",
    "print(title.strip())"
   ]
  },
  {
   "cell_type": "markdown",
   "metadata": {},
   "source": [
    "#### String Formatting "
   ]
  },
  {
   "cell_type": "code",
   "execution_count": 47,
   "metadata": {},
   "outputs": [
    {
     "name": "stdout",
     "output_type": "stream",
     "text": [
      "Hello Samran!\n",
      "Hello Samran you are 30 \n"
     ]
    }
   ],
   "source": [
    "format_string = \"Hello {}!\" # {} here are the place holder which will be populated by actual value using .format() function\n",
    "print(format_string.format(\"Samran\"))\n",
    "name = \"Samran\"  \n",
    "age = 30\n",
    "print(\"Hello {} you are {} \".format(name, age)) # allows multiple place holder"
   ]
  },
  {
   "cell_type": "code",
   "execution_count": 48,
   "metadata": {},
   "outputs": [
    {
     "name": "stdout",
     "output_type": "stream",
     "text": [
      "Hello Carol Smith, you got 75%\n"
     ]
    }
   ],
   "source": [
    "#Can specify an index for the substitution\n",
    "format_string = \"Hello {1} {0}, you got {2}%\"\n",
    "print(format_string.format('Smith', 'Carol', 75))"
   ]
  },
  {
   "cell_type": "code",
   "execution_count": 49,
   "metadata": {},
   "outputs": [
    {
     "name": "stdout",
     "output_type": "stream",
     "text": [
      "Paloma Faith sang Guilty in 2017\n"
     ]
    }
   ],
   "source": [
    "# Can use named substitutions, order is not significant\n",
    "format_string = \"{artist} sang {song} in {year}\"\n",
    "print(format_string.format(artist='Paloma Faith', song='Guilty', year=2017))"
   ]
  },
  {
   "cell_type": "code",
   "execution_count": null,
   "metadata": {},
   "outputs": [],
   "source": []
  }
 ],
 "metadata": {
  "kernelspec": {
   "display_name": "Python 3",
   "language": "python",
   "name": "python3"
  },
  "language_info": {
   "codemirror_mode": {
    "name": "ipython",
    "version": 3
   },
   "file_extension": ".py",
   "mimetype": "text/x-python",
   "name": "python",
   "nbconvert_exporter": "python",
   "pygments_lexer": "ipython3",
   "version": "3.8.0"
  }
 },
 "nbformat": 4,
 "nbformat_minor": 4
}
